{
  "nbformat": 4,
  "nbformat_minor": 0,
  "metadata": {
    "colab": {
      "provenance": [],
      "authorship_tag": "ABX9TyMDwcyXw1APS0+nrxA8Mn9r",
      "include_colab_link": true
    },
    "kernelspec": {
      "name": "python3",
      "display_name": "Python 3"
    },
    "language_info": {
      "name": "python"
    }
  },
  "cells": [
    {
      "cell_type": "markdown",
      "metadata": {
        "id": "view-in-github",
        "colab_type": "text"
      },
      "source": [
        "<a href=\"https://colab.research.google.com/github/Joseph-Chi/Codspace01/blob/main/DataScienceEcosystem.ipynb\" target=\"_parent\"><img src=\"https://colab.research.google.com/assets/colab-badge.svg\" alt=\"Open In Colab\"/></a>"
      ]
    },
    {
      "cell_type": "code",
      "execution_count": null,
      "metadata": {
        "id": "Sx1tOHvf4YjH"
      },
      "outputs": [],
      "source": []
    },
    {
      "cell_type": "markdown",
      "source": [
        "# Data Science Tools and Ecosystem #"
      ],
      "metadata": {
        "id": "aT3POcLF4q0J"
      }
    },
    {
      "cell_type": "markdown",
      "source": [
        "In this notebook, Data Science Tools and Ecosystem are summarized."
      ],
      "metadata": {
        "id": "AA5QInCc6uds"
      }
    },
    {
      "cell_type": "markdown",
      "source": [
        "Some of the popular languages that Data Scientists use are:\n",
        "\n",
        "1. Python\n",
        "2. R\n",
        "3. Julia"
      ],
      "metadata": {
        "id": "iUgHVJK39n_R"
      }
    },
    {
      "cell_type": "markdown",
      "source": [
        "Some of the commonly used libraries used by Data Scientists include:\n",
        "1. numpy\n",
        "2. pandas\n",
        "3. matplotlib"
      ],
      "metadata": {
        "id": "RaQ0Nl_d9ZcV"
      }
    },
    {
      "cell_type": "markdown",
      "source": [
        "| Data Science Tools |\n",
        "| ------ |\n",
        "| Jupyter |\n",
        "| GitHub |\n",
        "| Apache Spark |\n",
        "\n"
      ],
      "metadata": {
        "id": "jcngHTdp-0fd"
      }
    },
    {
      "cell_type": "markdown",
      "source": [
        "### Below are a few examples of evaluating arithmetic expressions in Python ###"
      ],
      "metadata": {
        "id": "VuPMcLj5CRos"
      }
    },
    {
      "cell_type": "code",
      "source": [
        "#This a simple arithmetic expression to mutiply then add integers\n",
        "\n",
        "(3*4)+5"
      ],
      "metadata": {
        "colab": {
          "base_uri": "https://localhost:8080/"
        },
        "id": "PJCpSlzaCdBn",
        "outputId": "0e943c3f-7f8f-4ded-d5ba-38c087767f2c"
      },
      "execution_count": 7,
      "outputs": [
        {
          "output_type": "execute_result",
          "data": {
            "text/plain": [
              "17"
            ]
          },
          "metadata": {},
          "execution_count": 7
        }
      ]
    },
    {
      "cell_type": "code",
      "source": [
        "#This will convert 200 minutes to hours by diving by 60\n",
        "200/60"
      ],
      "metadata": {
        "colab": {
          "base_uri": "https://localhost:8080/"
        },
        "id": "7KN_Tad-EP7w",
        "outputId": "cccd4003-ee84-443c-81f9-97e468390e36"
      },
      "execution_count": 8,
      "outputs": [
        {
          "output_type": "execute_result",
          "data": {
            "text/plain": [
              "3.3333333333333335"
            ]
          },
          "metadata": {},
          "execution_count": 8
        }
      ]
    },
    {
      "cell_type": "markdown",
      "source": [
        "**Objectives:**\n",
        "- List popular languages for Data Science\n",
        "- List popular open source tools for Data Science\n",
        "- List some Python arithmetic expressions examples"
      ],
      "metadata": {
        "id": "ZA4Uf8m8EjfY"
      }
    },
    {
      "cell_type": "markdown",
      "source": [
        "## Author ##\n",
        "Joseph Chi"
      ],
      "metadata": {
        "id": "1qwb6Z0_CX1C"
      }
    },
    {
      "cell_type": "code",
      "source": [],
      "metadata": {
        "id": "wqjFvpLCPJ0l"
      },
      "execution_count": null,
      "outputs": []
    }
  ]
}